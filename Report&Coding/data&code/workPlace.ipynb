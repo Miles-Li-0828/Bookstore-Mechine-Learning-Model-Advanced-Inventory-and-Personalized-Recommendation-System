{
 "cells": [
  {
   "cell_type": "markdown",
   "metadata": {},
   "source": [
    "# Workplace"
   ]
  },
  {
   "cell_type": "code",
   "execution_count": 31,
   "metadata": {},
   "outputs": [],
   "source": [
    "import numpy as np\n",
    "import pandas as pd\n",
    "\n",
    "books_df = pd.read_csv('BX-Users.csv')\n",
    "\n",
    "# Remove non-digit characters from 'User-Age' column\n",
    "books_df['User-Age'] = books_df['User-Age'].str.replace(r'\\D', '', regex=True)\n",
    "\n",
    "# Convert 'User-Age' column to numeric\n",
    "books_df['User-Age'] = pd.to_numeric(books_df['User-Age'], errors='coerce')\n",
    "\n",
    "# Compute the median age\n",
    "median_age = books_df['User-Age'].median()\n",
    "\n",
    "# Replace NaN values with the median\n",
    "books_df['User-Age'] = books_df['User-Age'].fillna(median_age)\n",
    "\n",
    "# Adjusting ages greater than 99 and less than 10\n",
    "books_df.loc[books_df['User-Age'] > 210, 'User-Age'] = books_df['User-Age'] - 200\n",
    "books_df.loc[books_df['User-Age'] >= 200, 'User-Age'] = books_df['User-Age'] - 200 + 10\n",
    "books_df.loc[books_df['User-Age'] > 110, 'User-Age'] = books_df['User-Age'] - 100\n",
    "books_df.loc[books_df['User-Age'] >= 100, 'User-Age'] = books_df['User-Age'] - 100 + 10\n",
    "books_df.loc[books_df['User-Age'] < 10, 'User-Age'] = books_df['User-Age'] + 10"
   ]
  },
  {
   "cell_type": "code",
   "execution_count": 40,
   "metadata": {},
   "outputs": [
    {
     "name": "stdout",
     "output_type": "stream",
     "text": [
      "0            canada\"\n",
      "1               usa\"\n",
      "2               usa\"\n",
      "3               usa\"\n",
      "4               usa\"\n",
      "            ...     \n",
      "48294        canada\"\n",
      "48295        canada\"\n",
      "48296           usa\"\n",
      "48297     australia\"\n",
      "48298           usa\"\n",
      "Name: User-Country, Length: 48299, dtype: object\n",
      "0            canada\"\n",
      "1               usa\"\n",
      "2               usa\"\n",
      "3               usa\"\n",
      "4               usa\"\n",
      "            ...     \n",
      "48294        canada\"\n",
      "48295        canada\"\n",
      "48296           usa\"\n",
      "48297     australia\"\n",
      "48298           usa\"\n",
      "Name: User-Country, Length: 48299, dtype: object\n"
     ]
    }
   ],
   "source": [
    "# Compute the mode country\n",
    "mode_country = books_df['User-Country'].mode()[0]\n",
    "\n",
    "# Replace NaN values with the mode\n",
    "books_df['User-Country'] = books_df['User-Country'].fillna(mode_country)"
   ]
  }
 ],
 "metadata": {
  "kernelspec": {
   "display_name": "Python 3",
   "language": "python",
   "name": "python3"
  },
  "language_info": {
   "codemirror_mode": {
    "name": "ipython",
    "version": 3
   },
   "file_extension": ".py",
   "mimetype": "text/x-python",
   "name": "python",
   "nbconvert_exporter": "python",
   "pygments_lexer": "ipython3",
   "version": "3.11.7"
  }
 },
 "nbformat": 4,
 "nbformat_minor": 2
}
